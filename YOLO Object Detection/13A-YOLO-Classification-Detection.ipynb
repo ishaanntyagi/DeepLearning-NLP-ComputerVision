{
 "cells": [
  {
   "cell_type": "code",
   "execution_count": 6,
   "id": "c4a9dce8",
   "metadata": {},
   "outputs": [],
   "source": [
    "#download the Datasets From the web \n",
    "import os \n",
    "# import urllib.request"
   ]
  },
  {
   "cell_type": "code",
   "execution_count": 7,
   "id": "d44bdcc1",
   "metadata": {},
   "outputs": [
    {
     "name": "stdout",
     "output_type": "stream",
     "text": [
      "['Cats', 'Dogs']\n"
     ]
    }
   ],
   "source": [
    "#Dataset Links for Dogs and Cats \n",
    "data_dir = (r\"C:\\Users\\ishaan.narayan\\Desktop\\Ishaan's Workspace\\DataSets\")\n",
    "print(os.listdir(data_dir))\n",
    "#Data loaded Successfully so that we can use the Dataset Images in yolo \n",
    "# done via Import Os "
   ]
  },
  {
   "cell_type": "code",
   "execution_count": 8,
   "id": "f91c0e0e",
   "metadata": {},
   "outputs": [
    {
     "name": "stdout",
     "output_type": "stream",
     "text": [
      "Looking in indexes: https://download.pytorch.org/whl/cpu\n",
      "Requirement already satisfied: torch in c:\\users\\ishaan.narayan\\appdata\\local\\programs\\python\\python311\\lib\\site-packages (2.7.1)\n",
      "Requirement already satisfied: torchvision in c:\\users\\ishaan.narayan\\appdata\\local\\programs\\python\\python311\\lib\\site-packages (0.22.1)\n",
      "Requirement already satisfied: torchaudio in c:\\users\\ishaan.narayan\\appdata\\local\\programs\\python\\python311\\lib\\site-packages (2.7.1+cpu)\n",
      "Requirement already satisfied: filelock in c:\\users\\ishaan.narayan\\appdata\\local\\programs\\python\\python311\\lib\\site-packages (from torch) (3.18.0)\n",
      "Requirement already satisfied: typing-extensions>=4.10.0 in c:\\users\\ishaan.narayan\\appdata\\local\\programs\\python\\python311\\lib\\site-packages (from torch) (4.14.0)\n",
      "Requirement already satisfied: sympy>=1.13.3 in c:\\users\\ishaan.narayan\\appdata\\local\\programs\\python\\python311\\lib\\site-packages (from torch) (1.14.0)\n",
      "Requirement already satisfied: networkx in c:\\users\\ishaan.narayan\\appdata\\local\\programs\\python\\python311\\lib\\site-packages (from torch) (3.5)\n",
      "Requirement already satisfied: jinja2 in c:\\users\\ishaan.narayan\\appdata\\local\\programs\\python\\python311\\lib\\site-packages (from torch) (3.1.6)\n",
      "Requirement already satisfied: fsspec in c:\\users\\ishaan.narayan\\appdata\\local\\programs\\python\\python311\\lib\\site-packages (from torch) (2025.5.1)\n",
      "Requirement already satisfied: numpy in c:\\users\\ishaan.narayan\\appdata\\local\\programs\\python\\python311\\lib\\site-packages (from torchvision) (1.26.4)\n",
      "Requirement already satisfied: pillow!=8.3.*,>=5.3.0 in c:\\users\\ishaan.narayan\\appdata\\local\\programs\\python\\python311\\lib\\site-packages (from torchvision) (11.2.1)\n",
      "Requirement already satisfied: mpmath<1.4,>=1.1.0 in c:\\users\\ishaan.narayan\\appdata\\local\\programs\\python\\python311\\lib\\site-packages (from sympy>=1.13.3->torch) (1.3.0)\n",
      "Requirement already satisfied: MarkupSafe>=2.0 in c:\\users\\ishaan.narayan\\appdata\\local\\programs\\python\\python311\\lib\\site-packages (from jinja2->torch) (3.0.2)\n",
      "Note: you may need to restart the kernel to use updated packages.\n"
     ]
    }
   ],
   "source": [
    "#Yolo requirements for a pretrained Model \n",
    "%pip install torch torchvision torchaudio --index-url https://download.pytorch.org/whl/cpu\n",
    "import torch "
   ]
  },
  {
   "cell_type": "code",
   "execution_count": 9,
   "id": "62a03028",
   "metadata": {},
   "outputs": [
    {
     "name": "stderr",
     "output_type": "stream",
     "text": [
      "Using cache found in C:\\Users\\ishaan.narayan/.cache\\torch\\hub\\ultralytics_yolov5_master\n",
      "YOLOv5  2025-6-27 Python-3.11.9 torch-2.7.1+cpu CPU\n",
      "\n",
      "Fusing layers... \n",
      "YOLOv5s summary: 213 layers, 7225885 parameters, 0 gradients, 16.4 GFLOPs\n",
      "Adding AutoShape... \n"
     ]
    }
   ],
   "source": [
    "model = torch.hub.load('ultralytics/yolov5', 'yolov5s', pretrained=True)\n"
   ]
  },
  {
   "cell_type": "code",
   "execution_count": 13,
   "id": "29a570aa",
   "metadata": {},
   "outputs": [],
   "source": [
    "image_dir         = r\"C:\\Users\\ishaan.narayan\\Desktop\\Ishaan's Workspace\\DataSets\\Dogs\"\n",
    "image_dir2        = r\"C:\\Users\\ishaan.narayan\\Desktop\\Ishaan's Workspace\\DataSets\\Cats\"\n",
    "image_files_total = []\n",
    "for dir_path in [image_dir, image_dir2]:\n",
    "    for img_name in os.listdir(dir_path):\n",
    "        image_files_total.append(os.path.join(dir_path, img_name))\n",
    "\n"
   ]
  }
 ],
 "metadata": {
  "kernelspec": {
   "display_name": "Python 3",
   "language": "python",
   "name": "python3"
  },
  "language_info": {
   "codemirror_mode": {
    "name": "ipython",
    "version": 3
   },
   "file_extension": ".py",
   "mimetype": "text/x-python",
   "name": "python",
   "nbconvert_exporter": "python",
   "pygments_lexer": "ipython3",
   "version": "3.11.9"
  }
 },
 "nbformat": 4,
 "nbformat_minor": 5
}
